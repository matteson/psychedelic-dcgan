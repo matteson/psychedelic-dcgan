{
 "cells": [
  {
   "cell_type": "code",
   "execution_count": 1,
   "metadata": {
    "collapsed": true
   },
   "outputs": [],
   "source": [
    "from io import BytesIO\n",
    "import PIL.Image\n",
    "from IPython.display import clear_output, Image, display, HTML\n",
    "import glob\n",
    "\n",
    "import tensorflow as tf\n",
    "import numpy as np\n",
    "import scipy.misc\n",
    "\n",
    "import tensorflow.contrib.slim as slim\n",
    "from tensorflow.python.tools import freeze_graph\n",
    "import os\n"
   ]
  },
  {
   "cell_type": "code",
   "execution_count": 26,
   "metadata": {
    "collapsed": true
   },
   "outputs": [],
   "source": [
    "def transform(image, resize_height=64, resize_width=64):\n",
    "    if resize_height or resize_width:\n",
    "        resizedImage = scipy.misc.imresize(image, [resize_height, resize_width])\n",
    "    else:\n",
    "        resizedImage = image\n",
    "    return np.array(resizedImage)/127.5 - 1.\n",
    "\n",
    "def get_image(image_path, resize_height=64, resize_width=64):\n",
    "    image = scipy.misc.imread(image_path).astype(np.float)\n",
    "    return transform(image, resize_height, resize_width)\n",
    "\n",
    "def get_images(image_paths, resize_height=64, resize_width=64):\n",
    "    return [get_image(p, resize_height, resize_width) for p in image_paths]"
   ]
  },
  {
   "cell_type": "code",
   "execution_count": 3,
   "metadata": {
    "collapsed": true
   },
   "outputs": [],
   "source": [
    "def showarray(a, transform='tanh', fmt='jpeg'):\n",
    "    if transform == 'tanh':\n",
    "        a = np.uint8(((a+1)/2)*255)\n",
    "    else:\n",
    "        a = np.uint8(np.clip(a, 0, 1)*255)\n",
    "\n",
    "    f = BytesIO()\n",
    "    PIL.Image.fromarray(a).save(f, fmt)\n",
    "    display(Image(data=f.getvalue()))"
   ]
  },
  {
   "cell_type": "code",
   "execution_count": 97,
   "metadata": {
    "collapsed": false
   },
   "outputs": [],
   "source": [
    "def buildMinibatchDiscriminator(features, numFeatures, kernels, kernelDim=5, reuse=False):\n",
    "    with tf.variable_scope(\"minibatch\") as scope:\n",
    "        if reuse:\n",
    "            scope.reuse_variables()\n",
    "        # TODO: no undefined dimensions until 1.0 release\n",
    "        batchTensor = tf.get_variable('disc_minibatch',\n",
    "                       shape=[numFeatures, kernels, kernelDim],\n",
    "                       initializer=tf.truncated_normal_initializer(stddev=0.1),\n",
    "                       regularizer=slim.l2_regularizer(0.05))\n",
    "        \n",
    "        flatFeatures = tf.reshape(features, (16,-1))\n",
    "        multFeatures = tf.einsum('ij,jkl->ikl',flatFeatures, batchTensor)\n",
    "        multFeaturesExpanded1 = tf.expand_dims(multFeatures,[1])\n",
    "\n",
    "        fn = lambda x: x - multFeatures\n",
    "\n",
    "        multFeaturesDiff = tf.exp(\n",
    "            -tf.reduce_sum(\n",
    "                tf.abs(\n",
    "                    tf.map_fn(fn, multFeaturesExpanded1)\n",
    "                ),\n",
    "            axis=[3])\n",
    "        )\n",
    "\n",
    "        output = tf.reduce_sum(multFeaturesDiff, axis=[1]) - 1\n",
    "    \n",
    "    return output\n",
    "\n",
    "# Network building\n",
    "def buildBatchL1(layer):\n",
    "    layerMean = tf.reduce_mean(layer, axis=[0])\n",
    "    layerBatchL1 = tf.reduce_mean(tf.abs(layer - layerMean))\n",
    "    \n",
    "    return layerBatchL1\n",
    "\n",
    "def buildDiscriminator(images, kernel_size=[3,3], reuse=False):\n",
    "    with tf.variable_scope(\"discriminator\") as scope:\n",
    "        if reuse:\n",
    "            scope.reuse_variables()\n",
    "        # Convolutional discriminator\n",
    "        discConv1 = slim.conv2d(images, 96, kernel_size,  stride=2, scope='disc_conv_1')\n",
    "        discConv2 = slim.conv2d(discConv1, 96, kernel_size,  stride=2, normalizer_fn=slim.batch_norm, scope='disc_conv_2')\n",
    "        discConv3 = slim.conv2d(discConv2, 64, kernel_size,  stride=2, normalizer_fn=slim.batch_norm, scope='disc_conv_3')\n",
    "        discConv4 = slim.conv2d(discConv3, 64, kernel_size,  stride=2, normalizer_fn=slim.batch_norm, scope='disc_conv_4')\n",
    "        \n",
    "        numFeatures = height/16*width/16*64\n",
    "        miniBatchDisc = buildMinibatchDiscriminator(discConv4, numFeatures, kernels=100, reuse=reuse)\n",
    "        \n",
    "        miniBatchSummary = slim.fully_connected(miniBatchDisc, 1, activation_fn = None, scope='disc_full_mini')\n",
    "        \n",
    "        # convBottleNeck = slim.flatten(discConv4, scope='bottleneck_flatten')\n",
    "        convBottleNeck = tf.reshape(discConv4, (16, 1024))\n",
    "        convSummary = slim.fully_connected(convBottleNeck, 1, activation_fn = None, scope='disc_full_conv')\n",
    "\n",
    "        discriminatorBottleneck = tf.concat([convSummary, miniBatchSummary], 1)\n",
    "        \n",
    "        discriminator_logits = slim.fully_connected(discriminatorBottleneck, 1, activation_fn = None, scope='disc_full_final')\n",
    "        discriminator = tf.nn.sigmoid(discriminator_logits)\n",
    "        \n",
    "        discriminatorLayers = [\n",
    "            discriminator,\n",
    "            discriminator_logits,\n",
    "            discriminatorBottleneck,\n",
    "            convSummary,\n",
    "            convBottleNeck,\n",
    "            miniBatchSummary,\n",
    "            miniBatchDisc,\n",
    "            discConv4,\n",
    "            discConv3,\n",
    "            discConv2,\n",
    "            discConv1,\n",
    "        ]\n",
    "    return discriminatorLayers\n",
    "\n",
    "def buildGenerator(embeddings, kernel_size=[3,3], reuse=False):\n",
    "    with tf.variable_scope(\"generator\") as scope:\n",
    "        if reuse:\n",
    "            scope.reuse_variables()\n",
    "            \n",
    "        # Reshape embeddings       \n",
    "        generatorLinear = slim.fully_connected(embeddings, finalConvFilterLayers, activation_fn = None, scope='gen_linear')\n",
    "        generatorReshape = tf.reshape(generatorLinear, [-1, finalHeight, finalWidth, dim*8])\n",
    "        \n",
    "        generatorConv1_1 = slim.conv2d(generatorReshape, 64, kernel_size,  \n",
    "                                               stride=1, activation_fn=tf.nn.elu, normalizer_fn=slim.batch_norm, scope='gen_conv_1_1')\n",
    "        \n",
    "        generatorResize1 = tf.image.resize_images(generatorConv1_1, size=(finalHeight*2, finalWidth*2), method=1 )\n",
    "        generatorConv2_1 = slim.conv2d(generatorResize1, 64, kernel_size,  \n",
    "                                               stride=1, activation_fn=tf.nn.elu, normalizer_fn=slim.batch_norm, scope='gen_conv_2_1')\n",
    "        generatorConv2_2 = slim.conv2d(generatorConv2_1, 32, kernel_size,  \n",
    "                                               stride=1, activation_fn=tf.nn.elu, normalizer_fn=slim.batch_norm, scope='gen_conv_2_2')\n",
    "        \n",
    "        generatorResize2 = tf.image.resize_images(generatorConv2_2, size=(finalHeight*4, finalWidth*4), method=1 )\n",
    "        generatorConv3_1 = slim.conv2d(generatorResize2, 32, kernel_size,  \n",
    "                                               stride=1, activation_fn=tf.nn.elu, normalizer_fn=slim.batch_norm, scope='gen_conv_3_1')\n",
    "        generatorConv3_2 = slim.conv2d(generatorConv3_1, 16, kernel_size,  \n",
    "                                               stride=1, activation_fn=tf.nn.elu, normalizer_fn=slim.batch_norm, scope='gen_conv_3_2')\n",
    "        \n",
    "        generatorResize3 = tf.image.resize_images(generatorConv3_2, size=(finalHeight*8, finalWidth*8), method=1 )\n",
    "        generatorConv4_1 = slim.conv2d(generatorResize3, 8, kernel_size,  stride=1,\n",
    "                                          activation_fn=None, scope='gen_conv_4_1')\n",
    "        \n",
    "        generatorResize4 = tf.image.resize_images(generatorConv4_1, size=(finalHeight*16, finalWidth*16), method=1 )\n",
    "        generatorConv5_1 = slim.conv2d(generatorResize4, channels, kernel_size,  stride=1,\n",
    "                                          activation_fn=None, scope='gen_conv_5_1')\n",
    "\n",
    "        generatorOut = tf.tanh(generatorConv5_1)\n",
    "        \n",
    "        generatorLayers = [\n",
    "            generatorOut,\n",
    "            generatorConv5_1,\n",
    "            generatorResize4,\n",
    "            generatorConv4_1,\n",
    "            generatorResize3,\n",
    "            generatorConv3_2,\n",
    "            generatorConv3_1,\n",
    "            generatorResize2,\n",
    "            generatorConv2_2,\n",
    "            generatorConv2_1,\n",
    "            generatorResize1,\n",
    "            generatorConv1_1,\n",
    "            generatorReshape,\n",
    "            generatorLinear,\n",
    "        ]\n",
    "        \n",
    "        return generatorLayers\n",
    "        \n",
    "def buildModel(images, embeddings):\n",
    "    \n",
    "    with slim.arg_scope([slim.conv2d, slim.fully_connected],\n",
    "                      activation_fn=tf.nn.relu,\n",
    "                      weights_initializer=tf.truncated_normal_initializer(0.0, 0.01),\n",
    "                      weights_regularizer=slim.l2_regularizer(0.0005)):\n",
    "\n",
    "        discRealLayers  = buildDiscriminator(images, reuse=False)\n",
    "        generatorLayers = buildGenerator(embeddings, reuse=False)\n",
    "        discFakeLayers  = buildDiscriminator(generatorLayers[0], reuse=True)\n",
    "\n",
    "    return  discRealLayers, discFakeLayers, generatorLayers"
   ]
  },
  {
   "cell_type": "code",
   "execution_count": 98,
   "metadata": {
    "collapsed": true
   },
   "outputs": [],
   "source": [
    "batch_size = 16\n",
    "\n",
    "height = 64\n",
    "width = 64\n",
    "channels = 3\n",
    "\n",
    "dim = 16;\n",
    "\n",
    "finalWidth = np.int_(width/16)\n",
    "finalHeight = np.int(height/16)\n",
    "finalConvFilterLayers = np.int(finalHeight*finalWidth*(dim*8))\n",
    "\n",
    "imageDims = [height, width, channels]\n",
    "embedDims = [100]"
   ]
  },
  {
   "cell_type": "code",
   "execution_count": 99,
   "metadata": {
    "collapsed": false
   },
   "outputs": [],
   "source": [
    "graph = tf.Graph()\n",
    "sess = tf.InteractiveSession(graph=graph)\n",
    "\n",
    "images     = tf.placeholder(tf.float32, [None] + [None, None, 3], name='images')\n",
    "embeddings = tf.placeholder(tf.float32, [None] + embedDims, name='embeddings')\n",
    "\n",
    "tf.add_to_collection(\"images\", images)\n",
    "tf.add_to_collection(\"embeddings\", embeddings)\n",
    "\n",
    "discRealLayers, discFakeLayers, generatorLayers = buildModel(images, embeddings)\n",
    "discRealLogits = discRealLayers[1]\n",
    "discFakeLogits = discFakeLayers[1]\n",
    "generator = generatorLayers[0]\n",
    "\n",
    "fakeMiniBatchDisc = discFakeLayers[2]\n",
    "realMiniBatchDisc = discRealLayers[2]\n",
    "\n",
    "# discriminator and generator losses\n",
    "discLossesReal = tf.nn.sigmoid_cross_entropy_with_logits(\n",
    "    logits=discRealLogits, labels=tf.ones_like(discRealLogits))\n",
    "discRealTotal = tf.reduce_mean(discLossesReal)\n",
    "\n",
    "discLossesFake = tf.nn.sigmoid_cross_entropy_with_logits(\n",
    "    logits=discFakeLogits, labels=tf.zeros_like(discFakeLogits))\n",
    "discFakeTotal = tf.reduce_mean(discLossesFake)\n",
    "\n",
    "genLoss = tf.reduce_mean(\n",
    "  tf.nn.sigmoid_cross_entropy_with_logits(\n",
    "    logits=discFakeLogits, labels=tf.ones_like(discFakeLogits)))\n",
    "\n",
    "discLoss = discRealTotal + discFakeTotal\n",
    "\n",
    "# need to optimize disc and gen only with respect to their parameters\n",
    "variables = tf.trainable_variables()\n",
    "discVars = [var for var in variables if 'disc_' in var.name]\n",
    "genVars  = [var for var in variables if 'gen_' in var.name]\n",
    "\n",
    "beta1 = 0.5\n",
    "\n",
    "learning_rate = tf.placeholder(tf.float32, shape=[])\n",
    "\n",
    "# create training ops on loss\n",
    "dOptim = tf.train.AdamOptimizer(learning_rate=learning_rate, beta1=beta1) \\\n",
    "          .minimize(discLoss, var_list=discVars)\n",
    "\n",
    "gOptim = tf.train.AdamOptimizer(learning_rate=learning_rate, beta1=beta1) \\\n",
    "          .minimize(genLoss, var_list=genVars)\n",
    "\n",
    "init = tf.global_variables_initializer()\n",
    "sess.run(init)"
   ]
  },
  {
   "cell_type": "code",
   "execution_count": 25,
   "metadata": {
    "collapsed": false
   },
   "outputs": [],
   "source": [
    "import glob\n",
    "imageFileNames = glob.glob(\"/home/ubuntu/data/images_full/*.png\")"
   ]
  },
  {
   "cell_type": "code",
   "execution_count": 41,
   "metadata": {
    "collapsed": false
   },
   "outputs": [],
   "source": [
    "fullImages = get_images(imageFileNames, resize_height=256, resize_width=256)"
   ]
  },
  {
   "cell_type": "code",
   "execution_count": 55,
   "metadata": {
    "collapsed": false
   },
   "outputs": [],
   "source": [
    "num_images = len(fullImage)\n",
    "\n",
    "def getCrops(batchSize, cropHeight=64, cropWidth=64):\n",
    "    # image is height x width x channels\n",
    "    imageHeight, imageWidth, channels = fullImages[0].shape\n",
    "    \n",
    "    imageY = np.floor(\n",
    "            np.multiply(\n",
    "                np.random.rand(batchSize),(imageHeight - cropHeight)\n",
    "            )\n",
    "        ).astype('int')\n",
    "    imageX = np.floor(\n",
    "            np.multiply(\n",
    "                np.random.rand(batchSize),(imageWidth - cropWidth)\n",
    "            )\n",
    "    ).astype('int')\n",
    "    \n",
    "    select = np.floor(np.random.rand(batch_size)*num_images).astype('int')\n",
    "    \n",
    "    return [fullImages[r][y:(y+cropHeight), x:(x+cropWidth),:] for (x, y, r) in zip(imageX, imageY, select)]\n",
    "\n",
    "def getEmbeds(batchSize, embedLength):\n",
    "    return np.random.rand(batchSize, embedLength)"
   ]
  },
  {
   "cell_type": "code",
   "execution_count": null,
   "metadata": {
    "collapsed": false
   },
   "outputs": [
    {
     "name": "stdout",
     "output_type": "stream",
     "text": [
      "jter:  375 , Discriminator loss:  1.59869 , \n",
      " Generator loss:  0.395235 , \n",
      " Minibatch Fake:  [ 14.74782372   6.04338551] , \n",
      " Minibatch Real:  [ 15.3705883    5.47294426]\n"
     ]
    }
   ],
   "source": [
    "numEpochs = 1\n",
    "numBatchPerEpoch = 100000\n",
    "printIter = 25\n",
    "l1LossWeight = 1\n",
    "gdLearnRate = .001\n",
    "\n",
    "for iter in range(numEpochs):\n",
    "    \n",
    "    for jter in range(numBatchPerEpoch):\n",
    "\n",
    "        # update discriminator and generator\n",
    "        for kter in range(1):\n",
    "            x_embed = np.random.rand(16, embedDims[0])\n",
    "            x_image = getCrops(16, cropHeight=height, cropWidth=width)\n",
    "            sess.run([gOptim, dOptim],\n",
    "                feed_dict={images: x_image, embeddings: x_embed, learning_rate: gdLearnRate})\n",
    "        \n",
    "        for kter in range(2):\n",
    "            # update generator 2x because discriminator sees more examples (fake + real)\n",
    "            x_embed = np.random.rand(16, embedDims[0])\n",
    "            sess.run(gOptim,\n",
    "                feed_dict={embeddings: x_embed, learning_rate: gdLearnRate})\n",
    "    \n",
    "        if jter%printIter == 0: \n",
    "            x_image = getCrops(16, cropHeight=height, cropWidth=width)\n",
    "            x_embed = np.random.rand(16, embedDims[0])\n",
    "            currentDiscLoss, currentReal, currentFake, currentGenLoss, currentFakeMini, currentRealMini = sess.run(\n",
    "                [discLoss, discLossesReal, discLossesFake, genLoss, fakeMiniBatchDisc, realMiniBatchDisc], \n",
    "                feed_dict={images: x_image, embeddings: x_embed})\n",
    "            clear_output()\n",
    "            print(\n",
    "                'jter: ', jter, ',',\n",
    "                'Discriminator loss: ', currentDiscLoss, ',', '\\n',\n",
    "                'Generator loss: ', currentGenLoss, ',', '\\n',\n",
    "                'Minibatch Fake: ', np.mean(currentFakeMini,0) , ',','\\n',\n",
    "                'Minibatch Real: ', np.mean(currentRealMini,0))"
   ]
  },
  {
   "cell_type": "code",
   "execution_count": 104,
   "metadata": {
    "collapsed": false
   },
   "outputs": [
    {
     "data": {
      "image/jpeg": "[encoded data removed]",
      "text/plain": [
       "<IPython.core.display.Image object>"
      ]
     },
     "metadata": {},
     "output_type": "display_data"
    },
    {
     "data": {
      "image/jpeg": "[encoded data removed]",
      "text/plain": [
       "<IPython.core.display.Image object>"
      ]
     },
     "metadata": {},
     "output_type": "display_data"
    },
    {
     "data": {
      "image/jpeg": "[encoded data removed]",
      "text/plain": [
       "<IPython.core.display.Image object>"
      ]
     },
     "metadata": {},
     "output_type": "display_data"
    },
    {
     "data": {
      "image/jpeg": "[encoded data removed]",
      "text/plain": [
       "<IPython.core.display.Image object>"
      ]
     },
     "metadata": {},
     "output_type": "display_data"
    },
    {
     "data": {
      "image/jpeg": "[encoded data removed]",
      "text/plain": [
       "<IPython.core.display.Image object>"
      ]
     },
     "metadata": {},
     "output_type": "display_data"
    },
    {
     "data": {
      "image/jpeg": "[encoded data removed]",
      "text/plain": [
       "<IPython.core.display.Image object>"
      ]
     },
     "metadata": {},
     "output_type": "display_data"
    },
    {
     "data": {
      "image/jpeg": "[encoded data removed]",
      "text/plain": [
       "<IPython.core.display.Image object>"
      ]
     },
     "metadata": {},
     "output_type": "display_data"
    },
    {
     "data": {
      "image/jpeg": "[encoded data removed]",
      "text/plain": [
       "<IPython.core.display.Image object>"
      ]
     },
     "metadata": {},
     "output_type": "display_data"
    },
    {
     "data": {
      "image/jpeg": "[encoded data removed]",
      "text/plain": [
       "<IPython.core.display.Image object>"
      ]
     },
     "metadata": {},
     "output_type": "display_data"
    },
    {
     "data": {
      "image/jpeg": "[encoded data removed]",
      "text/plain": [
       "<IPython.core.display.Image object>"
      ]
     },
     "metadata": {},
     "output_type": "display_data"
    },
    {
     "data": {
      "image/jpeg": "[encoded data removed]",
      "text/plain": [
       "<IPython.core.display.Image object>"
      ]
     },
     "metadata": {},
     "output_type": "display_data"
    },
    {
     "data": {
      "image/jpeg": "[encoded data removed]",
      "text/plain": [
       "<IPython.core.display.Image object>"
      ]
     },
     "metadata": {},
     "output_type": "display_data"
    },
    {
     "data": {
      "image/jpeg": "[encoded data removed]",
      "text/plain": [
       "<IPython.core.display.Image object>"
      ]
     },
     "metadata": {},
     "output_type": "display_data"
    },
    {
     "data": {
      "image/jpeg": "[encoded data removed]",
      "text/plain": [
       "<IPython.core.display.Image object>"
      ]
     },
     "metadata": {},
     "output_type": "display_data"
    },
    {
     "data": {
      "image/jpeg": "[encoded data removed]",
      "text/plain": [
       "<IPython.core.display.Image object>"
      ]
     },
     "metadata": {},
     "output_type": "display_data"
    },
    {
     "data": {
      "image/jpeg": "[encoded data removed]",
      "text/plain": [
       "<IPython.core.display.Image object>"
      ]
     },
     "metadata": {},
     "output_type": "display_data"
    },
    {
     "name": "stdout",
     "output_type": "stream",
     "text": [
      "[0 0 0 0 0 0 0 0 0 0 0 0 0 0 0 0]\n",
      "(16, 4, 4, 64)\n"
     ]
    }
   ],
   "source": [
    "x_embed = np.random.rand(16, embedDims[0])\n",
    "# x_embed = 0.5*np.ones((1, embedDims[0]))\n",
    "# x_embed[0,20000:30000] = 1\n",
    "\n",
    "samples, layerSamples = sess.run((generator, generatorLayers[-3]), feed_dict={embeddings: x_embed})\n",
    "#samples = getCrops(16, cropHeight=height, cropWidth=width)\n",
    "\n",
    "for sample in samples:\n",
    "    showarray(sample)\n",
    "\n",
    "print(np.sum(layerSamples == 0, axis=(1,2,3)))\n",
    "print(layerSamples.shape)"
   ]
  },
  {
   "cell_type": "code",
   "execution_count": 34,
   "metadata": {
    "collapsed": false
   },
   "outputs": [],
   "source": [
    "# Freeze model\n",
    "checkpoint_prefix = \"./\"\n",
    "checkpoint_state_name = \"my-model\"\n",
    "input_graph_name = \"my-model.pb\"\n",
    "output_graph_name = \"frozen-model.pb\"\n",
    "input_graph_path = os.path.join(\"./\", \"my-model.pb\")\n",
    "input_saver_def_path = \"\"\n",
    "input_binary = False\n",
    "output_node_names = 'discriminator/disc_conv_4/convolution'\n",
    "restore_op_name = \"save/restore_all\"\n",
    "filename_tensor_name = \"save/Const:0\"\n",
    "output_graph_path = os.path.join(\"./\", output_graph_name)\n",
    "clear_devices = False\n",
    "\n",
    "# We save out the graph to disk, and then call the const conversion\n",
    "# routine.\n",
    "tf.train.write_graph(sess.graph_def, \"./\", \"my-model.pb\", True) #proto\n",
    "saver = tf.train.Saver(tf.global_variables())\n",
    "checkpoint_path = saver.save(sess,\"./my-model.data\")\n",
    "\n",
    "freeze_graph.freeze_graph(input_graph_path, input_saver_def_path,\n",
    "                          input_binary, checkpoint_path, output_node_names,\n",
    "                          restore_op_name, filename_tensor_name,\n",
    "                          output_graph_path, clear_devices, \"\")"
   ]
  },
  {
   "cell_type": "code",
   "execution_count": 65,
   "metadata": {
    "collapsed": false
   },
   "outputs": [
    {
     "name": "stdout",
     "output_type": "stream",
     "text": [
      "[[  2.01302782e-06]\n",
      " [  1.74654076e-06]\n",
      " [  2.75998580e-04]\n",
      " [  1.82114109e-05]\n",
      " [  6.19580896e-06]\n",
      " [  3.02006247e-05]\n",
      " [  3.20706546e-04]\n",
      " [  3.06647067e-04]\n",
      " [  1.45609709e-04]\n",
      " [  8.61895842e-06]\n",
      " [  1.71568336e-05]\n",
      " [  3.46408633e-05]\n",
      " [  1.05657164e-04]\n",
      " [  3.70653179e-05]\n",
      " [  8.27882650e-06]\n",
      " [  1.43511907e-05]] 8.33187e-05\n",
      "[[  1.94667721e+00]\n",
      " [  1.43256426e+00]\n",
      " [  4.02907637e-04]\n",
      " [  8.35512340e-01]\n",
      " [  2.10230276e-01]\n",
      " [  1.07395481e-05]\n",
      " [  1.75760388e+00]\n",
      " [  4.50042295e+00]\n",
      " [  2.36718846e-03]\n",
      " [  2.88805403e-02]\n",
      " [  3.72046083e-02]\n",
      " [  1.22876399e-05]\n",
      " [  1.83857039e-01]\n",
      " [  1.79373637e-06]\n",
      " [  1.41834879e+00]\n",
      " [  3.22605586e+00]] 0.97376\n"
     ]
    }
   ],
   "source": [
    "scores = sess.run(discLossesReal, feed_dict={images: x_image})\n",
    "print(scores, np.mean(scores))\n",
    "scores = sess.run(discLossesFake, feed_dict={embeddings: x_embed})\n",
    "print(scores, np.mean(scores))"
   ]
  },
  {
   "cell_type": "code",
   "execution_count": 52,
   "metadata": {
    "collapsed": false
   },
   "outputs": [
    {
     "data": {
      "image/jpeg": "[encoded data removed]",
      "text/plain": [
       "<IPython.core.display.Image object>"
      ]
     },
     "metadata": {},
     "output_type": "display_data"
    }
   ],
   "source": [
    "showarray(x_image[15])"
   ]
  },
  {
   "cell_type": "code",
   "execution_count": null,
   "metadata": {
    "collapsed": true
   },
   "outputs": [],
   "source": []
  }
 ],
 "metadata": {
  "kernelspec": {
   "display_name": "Python 3",
   "language": "python",
   "name": "python3"
  },
  "language_info": {
   "codemirror_mode": {
    "name": "ipython",
    "version": 3
   },
   "file_extension": ".py",
   "mimetype": "text/x-python",
   "name": "python",
   "nbconvert_exporter": "python",
   "pygments_lexer": "ipython3",
   "version": "3.6.0"
  }
 },
 "nbformat": 4,
 "nbformat_minor": 2
}
